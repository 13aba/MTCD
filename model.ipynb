{
 "cells": [
  {
   "cell_type": "code",
   "execution_count": 1,
   "id": "2aa5c953",
   "metadata": {},
   "outputs": [
    {
     "name": "stderr",
     "output_type": "stream",
     "text": [
      "C:\\conda\\Lib\\site-packages\\pandas\\core\\arrays\\masked.py:60: UserWarning: Pandas requires version '1.3.6' or newer of 'bottleneck' (version '1.3.5' currently installed).\n",
      "  from pandas.core import (\n"
     ]
    }
   ],
   "source": [
    "\n",
    "import tensorflow as tf\n",
    "from tensorflow.keras import layers, models\n",
    "import os"
   ]
  },
  {
   "cell_type": "code",
   "execution_count": 2,
   "id": "6b30d928",
   "metadata": {},
   "outputs": [
    {
     "name": "stdout",
     "output_type": "stream",
     "text": [
      "Found 44 files belonging to 2 classes.\n",
      "Using 36 files for training.\n",
      "Using 8 files for validation.\n"
     ]
    }
   ],
   "source": [
    "#Create image data from folder using image_dataset_from_directory function form keras. Validation split is set at 0.2 \n",
    "#which means 80% of the data is used for training and 20% for validation. Images are converted into grayscale since its\n",
    "#black and white drawings of Mongolian traditional character\n",
    "image_data = tf.keras.preprocessing.image_dataset_from_directory(\n",
    "    directory= r\"C:\\Users\\Galaxy Book Ion\\Desktop\\media\",\n",
    "    labels='inferred',\n",
    "    label_mode='int',\n",
    "    batch_size=2,\n",
    "    image_size=(300, 300),\n",
    "    color_mode = \"grayscale\",\n",
    "    shuffle=True,\n",
    "    validation_split=0.2,\n",
    "    seed=0,\n",
    "    subset=\"both\",\n",
    ")"
   ]
  },
  {
   "cell_type": "code",
   "execution_count": 3,
   "id": "7b662234",
   "metadata": {},
   "outputs": [],
   "source": [
    "#Split the training and validation data from image_data tuple\n",
    "training_data = image_data[0]\n",
    "\n",
    "val_data = image_data[1]"
   ]
  },
  {
   "cell_type": "code",
   "execution_count": 7,
   "id": "7fb6e226",
   "metadata": {},
   "outputs": [],
   "source": [
    "#Creating simple machine learning model to test if our gathered dataset can be trained on simple baseline model\n",
    "model = models.Sequential([\n",
    "    #First layer of convolution\n",
    "    layers.Conv2D(4, (3, 3), activation='relu'),\n",
    "    layers.MaxPooling2D((2, 2)),\n",
    "    #Second layer of convolution\n",
    "    layers.Conv2D(8, (3, 3), activation='relu'),\n",
    "    layers.MaxPooling2D((2, 2)),\n",
    "    #Flatten the data into single dimension\n",
    "    layers.Flatten(),\n",
    "    #Fully connected layers with single node since we only have two classes for the prototype (Letter A and O)\n",
    "    layers.Dense(64, activation='relu'),\n",
    "    layers.Dense(18, activation='softmax')    \n",
    "])"
   ]
  },
  {
   "cell_type": "code",
   "execution_count": 8,
   "id": "f3c63907",
   "metadata": {},
   "outputs": [],
   "source": [
    "#Used \"adam\" optimizer since we are testing baseline simple model with binary crossentropy for loss function since we binary \n",
    "#classifcation(Letter A or O)\n",
    "model.compile(optimizer='adam', loss='categorical_crossentropy', metrics=['accuracy'])"
   ]
  },
  {
   "cell_type": "code",
   "execution_count": 9,
   "id": "8c0ecf14",
   "metadata": {},
   "outputs": [
    {
     "name": "stdout",
     "output_type": "stream",
     "text": [
      "Epoch 1/10\n",
      "\u001b[1m18/18\u001b[0m \u001b[32m━━━━━━━━━━━━━━━━━━━━\u001b[0m\u001b[37m\u001b[0m \u001b[1m2s\u001b[0m 62ms/step - accuracy: 0.4825 - loss: 391.3728 - val_accuracy: 0.3750 - val_loss: 285.5713\n",
      "Epoch 2/10\n",
      "\u001b[1m18/18\u001b[0m \u001b[32m━━━━━━━━━━━━━━━━━━━━\u001b[0m\u001b[37m\u001b[0m \u001b[1m1s\u001b[0m 54ms/step - accuracy: 0.6239 - loss: 145.8077 - val_accuracy: 0.6250 - val_loss: 38.3810\n",
      "Epoch 3/10\n",
      "\u001b[1m18/18\u001b[0m \u001b[32m━━━━━━━━━━━━━━━━━━━━\u001b[0m\u001b[37m\u001b[0m \u001b[1m1s\u001b[0m 55ms/step - accuracy: 0.7942 - loss: 23.8944 - val_accuracy: 0.8750 - val_loss: 5.8377\n",
      "Epoch 4/10\n",
      "\u001b[1m18/18\u001b[0m \u001b[32m━━━━━━━━━━━━━━━━━━━━\u001b[0m\u001b[37m\u001b[0m \u001b[1m1s\u001b[0m 57ms/step - accuracy: 0.8558 - loss: 15.8633 - val_accuracy: 0.7500 - val_loss: 23.2434\n",
      "Epoch 5/10\n",
      "\u001b[1m18/18\u001b[0m \u001b[32m━━━━━━━━━━━━━━━━━━━━\u001b[0m\u001b[37m\u001b[0m \u001b[1m1s\u001b[0m 60ms/step - accuracy: 0.9035 - loss: 7.4330 - val_accuracy: 0.6250 - val_loss: 30.6800\n",
      "Epoch 6/10\n",
      "\u001b[1m18/18\u001b[0m \u001b[32m━━━━━━━━━━━━━━━━━━━━\u001b[0m\u001b[37m\u001b[0m \u001b[1m1s\u001b[0m 59ms/step - accuracy: 0.8175 - loss: 3.8706 - val_accuracy: 1.0000 - val_loss: 4.9572e-14\n",
      "Epoch 7/10\n",
      "\u001b[1m18/18\u001b[0m \u001b[32m━━━━━━━━━━━━━━━━━━━━\u001b[0m\u001b[37m\u001b[0m \u001b[1m1s\u001b[0m 57ms/step - accuracy: 1.0000 - loss: 0.0000e+00 - val_accuracy: 0.8750 - val_loss: 4.2335\n",
      "Epoch 8/10\n",
      "\u001b[1m18/18\u001b[0m \u001b[32m━━━━━━━━━━━━━━━━━━━━\u001b[0m\u001b[37m\u001b[0m \u001b[1m1s\u001b[0m 61ms/step - accuracy: 1.0000 - loss: 1.8069e-13 - val_accuracy: 0.8750 - val_loss: 6.2026\n",
      "Epoch 9/10\n",
      "\u001b[1m18/18\u001b[0m \u001b[32m━━━━━━━━━━━━━━━━━━━━\u001b[0m\u001b[37m\u001b[0m \u001b[1m1s\u001b[0m 59ms/step - accuracy: 1.0000 - loss: 1.6987e-05 - val_accuracy: 0.8750 - val_loss: 1.2936\n",
      "Epoch 10/10\n",
      "\u001b[1m18/18\u001b[0m \u001b[32m━━━━━━━━━━━━━━━━━━━━\u001b[0m\u001b[37m\u001b[0m \u001b[1m1s\u001b[0m 56ms/step - accuracy: 1.0000 - loss: 0.0000e+00 - val_accuracy: 1.0000 - val_loss: 4.2131e-07\n"
     ]
    }
   ],
   "source": [
    "#Used small number of epochs for prototype to show its possible to train the model on our gathered dataset\n",
    "history = model.fit(\n",
    "    training_data,\n",
    "    validation_data=val_data,\n",
    "    epochs=10\n",
    ")"
   ]
  },
  {
   "cell_type": "code",
   "execution_count": null,
   "id": "f9a475b8",
   "metadata": {},
   "outputs": [],
   "source": []
  }
 ],
 "metadata": {
  "kernelspec": {
   "display_name": "Python 3 (ipykernel)",
   "language": "python",
   "name": "python3"
  },
  "language_info": {
   "codemirror_mode": {
    "name": "ipython",
    "version": 3
   },
   "file_extension": ".py",
   "mimetype": "text/x-python",
   "name": "python",
   "nbconvert_exporter": "python",
   "pygments_lexer": "ipython3",
   "version": "3.11.5"
  }
 },
 "nbformat": 4,
 "nbformat_minor": 5
}
