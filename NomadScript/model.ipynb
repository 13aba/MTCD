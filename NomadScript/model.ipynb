{
 "cells": [
  {
   "cell_type": "code",
   "execution_count": 1,
   "id": "2aa5c953",
   "metadata": {},
   "outputs": [],
   "source": [
<<<<<<< Updated upstream
<<<<<<< Updated upstream
    "\n",
    "import tensorflow as tf\n",
    "from tensorflow.keras import layers, models\n",
    "import os"
=======
=======
>>>>>>> Stashed changes
    "import tensorflow as tf\n",
    "from tensorflow.keras import layers, models\n",
    "import os\n",
    "import numpy as np\n",
    "from sklearn.model_selection import KFold\n",
    "import matplotlib.pyplot as plt"
<<<<<<< Updated upstream
>>>>>>> Stashed changes
=======
>>>>>>> Stashed changes
   ]
  },
  {
   "cell_type": "code",
   "execution_count": 2,
   "id": "6b30d928",
   "metadata": {},
   "outputs": [
    {
     "name": "stdout",
     "output_type": "stream",
     "text": [
<<<<<<< Updated upstream
<<<<<<< Updated upstream
      "Found 1004 files belonging to 18 classes.\n",
      "Using 804 files for training.\n",
      "Using 200 files for validation.\n"
=======
      "Found 1004 files belonging to 18 classes.\n"
>>>>>>> Stashed changes
=======
      "Found 1004 files belonging to 18 classes.\n"
>>>>>>> Stashed changes
     ]
    }
   ],
   "source": [
<<<<<<< Updated upstream
<<<<<<< Updated upstream
    "#Create image data from folder using image_dataset_from_directory function form keras. Validation split is set at 0.2 \n",
    "#which means 80% of the data is used for training and 20% for validation. Images are converted into grayscale since its\n",
    "#black and white drawings of Mongolian traditional character\n",
    "image_data = tf.keras.preprocessing.image_dataset_from_directory(\n",
    "    directory= r\"C:\\Users\\ulzii\\OneDrive\\Desktop\\baba\\media\",\n",
    "    labels='inferred',\n",
    "    label_mode='int',\n",
    "    batch_size=16,\n",
    "    image_size=(300, 300),\n",
    "    color_mode = \"grayscale\",\n",
    "    shuffle=True,\n",
    "    validation_split=0.2,\n",
    "    seed=0,\n",
    "    subset=\"both\",\n",
    ")"
=======
=======
>>>>>>> Stashed changes
    "\n",
    "image_data = tf.keras.preprocessing.image_dataset_from_directory(\n",
    "    directory=r\"C:\\Users\\ulzii\\OneDrive\\Desktop\\baba\\media\",\n",
    "    labels='inferred',\n",
    "    label_mode='int',\n",
    "    batch_size=1,\n",
    "    image_size=(300, 300),\n",
    "    color_mode=\"grayscale\",  \n",
    ")\n",
    "\n"
<<<<<<< Updated upstream
>>>>>>> Stashed changes
=======
>>>>>>> Stashed changes
   ]
  },
  {
   "cell_type": "code",
   "execution_count": 3,
   "id": "7b662234",
   "metadata": {},
   "outputs": [],
   "source": [
<<<<<<< Updated upstream
<<<<<<< Updated upstream
    "#Split the training and validation data from image_data tuple\n",
    "training_data = image_data[0]\n",
    "\n",
    "val_data = image_data[1]"
=======
=======
>>>>>>> Stashed changes
    "val_data = []\n",
    "train_data = []\n",
    "\n",
    "dataset_size = 1004\n",
    "k  = 10\n",
    "fold_size = 100\n",
    "\n",
    "for i in range(k):\n",
    "    val = image_data.skip(fold_size*i).take(fold_size)\n",
    "    train = image_data.take(i * fold_size).concatenate(image_data.skip((i + 1) * fold_size))\n",
    "    val_data.append(val)\n",
    "    train_data.append(train)\n"
<<<<<<< Updated upstream
>>>>>>> Stashed changes
=======
>>>>>>> Stashed changes
   ]
  },
  {
   "cell_type": "code",
   "execution_count": 4,
<<<<<<< Updated upstream
<<<<<<< Updated upstream
=======
=======
>>>>>>> Stashed changes
   "id": "068868cd-89ce-4c05-a954-5835f0e82c7e",
   "metadata": {},
   "outputs": [],
   "source": [
    "def create_model():\n",
    "    model = models.Sequential([\n",
    "        layers.Conv2D(16, (3, 3), activation='relu', input_shape=(300, 300, 1)),\n",
    "        layers.MaxPooling2D((2, 2)),\n",
    "        layers.Conv2D(32, (3, 3), activation='relu'),\n",
    "        layers.MaxPooling2D((2, 2)),\n",
    "        layers.Flatten(),\n",
    "        layers.Dense(64, activation='relu'),\n",
    "        layers.Dense(18, activation='softmax')    \n",
    "    ])\n",
    "    model.compile(optimizer='adam', loss='sparse_categorical_crossentropy', metrics=['accuracy'])\n",
    "    return model"
   ]
  },
  {
   "cell_type": "code",
   "execution_count": null,
<<<<<<< Updated upstream
>>>>>>> Stashed changes
=======
>>>>>>> Stashed changes
   "id": "6cfdaae3-2345-4390-bf36-62fbb9b4b09f",
   "metadata": {},
   "outputs": [
    {
<<<<<<< Updated upstream
<<<<<<< Updated upstream
     "data": {
      "text/plain": [
       "<BatchDataset element_spec=(TensorSpec(shape=(None, 300, 300, 1), dtype=tf.float32, name=None), TensorSpec(shape=(None,), dtype=tf.int32, name=None))>"
      ]
     },
     "execution_count": 4,
     "metadata": {},
     "output_type": "execute_result"
    }
   ],
   "source": [
    "training_data"
   ]
  },
  {
   "cell_type": "code",
   "execution_count": 5,
   "id": "7fb6e226",
   "metadata": {},
   "outputs": [],
   "source": [
    "#Creating simple machine learning model to test if our gathered dataset can be trained on simple baseline model\n",
    "model = models.Sequential([\n",
    "    #First layer of convolution\n",
    "    layers.Conv2D(16, (3, 3), activation='relu'),\n",
    "    layers.MaxPooling2D((2, 2)),\n",
    "    #Second layer of convolution\n",
    "    layers.Conv2D(32, (3, 3), activation='relu'),\n",
    "    layers.MaxPooling2D((2, 2)),\n",
    "    #Flatten the data into single dimension\n",
    "    layers.Flatten(),\n",
    "    #Fully connected layers with single node since we only have two classes for the prototype (Letter A and O)\n",
    "    layers.Dense(64, activation='relu'),\n",
    "    layers.Dense(18, activation='softmax')    \n",
    "])"
   ]
  },
  {
   "cell_type": "code",
   "execution_count": 6,
   "id": "f3c63907",
   "metadata": {},
   "outputs": [],
   "source": [
    "#Used \"adam\" optimizer since we are testing baseline simple model with binary crossentropy for loss function since we binary \n",
    "#classifcation(Letter A or O)\n",
    "model.compile(optimizer='adam', loss='sparse_categorical_crossentropy', metrics=['accuracy'])\n"
   ]
  },
  {
   "cell_type": "code",
   "execution_count": 7,
   "id": "8c0ecf14",
   "metadata": {
    "scrolled": true
   },
   "outputs": [
    {
     "name": "stdout",
     "output_type": "stream",
     "text": [
      "Epoch 1/30\n",
      "51/51 [==============================] - 5s 34ms/step - loss: 441.9830 - accuracy: 0.0958 - val_loss: 2.6103 - val_accuracy: 0.1700\n",
      "Epoch 2/30\n",
      "51/51 [==============================] - 2s 29ms/step - loss: 2.7002 - accuracy: 0.2326 - val_loss: 2.5412 - val_accuracy: 0.2200\n",
      "Epoch 3/30\n",
      "51/51 [==============================] - 2s 29ms/step - loss: 2.1811 - accuracy: 0.3271 - val_loss: 2.4028 - val_accuracy: 0.2550\n",
      "Epoch 4/30\n",
      "51/51 [==============================] - 2s 29ms/step - loss: 1.8322 - accuracy: 0.4142 - val_loss: 2.5174 - val_accuracy: 0.3000\n",
      "Epoch 5/30\n",
      "51/51 [==============================] - 2s 29ms/step - loss: 1.5407 - accuracy: 0.4900 - val_loss: 2.4493 - val_accuracy: 0.3800\n",
      "Epoch 6/30\n",
      "51/51 [==============================] - 2s 29ms/step - loss: 1.2884 - accuracy: 0.5560 - val_loss: 2.4108 - val_accuracy: 0.4000\n",
      "Epoch 7/30\n",
      "51/51 [==============================] - 2s 29ms/step - loss: 1.1140 - accuracy: 0.5970 - val_loss: 2.1833 - val_accuracy: 0.4500\n",
      "Epoch 8/30\n",
      "51/51 [==============================] - 2s 29ms/step - loss: 0.9996 - accuracy: 0.6542 - val_loss: 2.3027 - val_accuracy: 0.4250\n",
      "Epoch 9/30\n",
      "51/51 [==============================] - 2s 29ms/step - loss: 0.8769 - accuracy: 0.7052 - val_loss: 2.3644 - val_accuracy: 0.4550\n",
      "Epoch 10/30\n",
      "51/51 [==============================] - 2s 29ms/step - loss: 0.7767 - accuracy: 0.7438 - val_loss: 2.5714 - val_accuracy: 0.4800\n",
      "Epoch 11/30\n",
      "51/51 [==============================] - 2s 29ms/step - loss: 0.7759 - accuracy: 0.7525 - val_loss: 2.4354 - val_accuracy: 0.4650\n",
      "Epoch 12/30\n",
      "51/51 [==============================] - 2s 29ms/step - loss: 0.7345 - accuracy: 0.7612 - val_loss: 2.4327 - val_accuracy: 0.4900\n",
      "Epoch 13/30\n",
      "51/51 [==============================] - 2s 29ms/step - loss: 0.6366 - accuracy: 0.7724 - val_loss: 2.7751 - val_accuracy: 0.4700\n",
      "Epoch 14/30\n",
      "51/51 [==============================] - 2s 29ms/step - loss: 0.5616 - accuracy: 0.7948 - val_loss: 2.6608 - val_accuracy: 0.5600\n",
      "Epoch 15/30\n",
      "51/51 [==============================] - 2s 29ms/step - loss: 0.5368 - accuracy: 0.8122 - val_loss: 2.7069 - val_accuracy: 0.5700\n",
      "Epoch 16/30\n",
      "51/51 [==============================] - 2s 29ms/step - loss: 0.4943 - accuracy: 0.8607 - val_loss: 3.1222 - val_accuracy: 0.5600\n",
      "Epoch 17/30\n",
      "51/51 [==============================] - 2s 29ms/step - loss: 0.4562 - accuracy: 0.8731 - val_loss: 3.2891 - val_accuracy: 0.5650\n",
      "Epoch 18/30\n",
      "51/51 [==============================] - 2s 29ms/step - loss: 0.4107 - accuracy: 0.8843 - val_loss: 3.1501 - val_accuracy: 0.5850\n",
      "Epoch 19/30\n",
      "51/51 [==============================] - 2s 29ms/step - loss: 0.3694 - accuracy: 0.8993 - val_loss: 3.1470 - val_accuracy: 0.5800\n",
      "Epoch 20/30\n",
      "51/51 [==============================] - 2s 29ms/step - loss: 0.3689 - accuracy: 0.9005 - val_loss: 3.2108 - val_accuracy: 0.5850\n",
      "Epoch 21/30\n",
      "51/51 [==============================] - 2s 29ms/step - loss: 0.3562 - accuracy: 0.9055 - val_loss: 3.2878 - val_accuracy: 0.6200\n",
      "Epoch 22/30\n",
      "51/51 [==============================] - 2s 29ms/step - loss: 0.3462 - accuracy: 0.9142 - val_loss: 3.5602 - val_accuracy: 0.6100\n",
      "Epoch 23/30\n",
      "51/51 [==============================] - 2s 29ms/step - loss: 0.3082 - accuracy: 0.9179 - val_loss: 3.4238 - val_accuracy: 0.5950\n",
      "Epoch 24/30\n",
      "51/51 [==============================] - 2s 29ms/step - loss: 0.2882 - accuracy: 0.9229 - val_loss: 3.7855 - val_accuracy: 0.5900\n",
      "Epoch 25/30\n",
      "51/51 [==============================] - 2s 29ms/step - loss: 0.2727 - accuracy: 0.9266 - val_loss: 3.9144 - val_accuracy: 0.5850\n",
      "Epoch 26/30\n",
      "51/51 [==============================] - 2s 29ms/step - loss: 0.2745 - accuracy: 0.9266 - val_loss: 3.9061 - val_accuracy: 0.5900\n",
      "Epoch 27/30\n",
      "51/51 [==============================] - 2s 29ms/step - loss: 0.2649 - accuracy: 0.9266 - val_loss: 3.8663 - val_accuracy: 0.5900\n",
      "Epoch 28/30\n",
      "51/51 [==============================] - 2s 29ms/step - loss: 0.2594 - accuracy: 0.9279 - val_loss: 4.5669 - val_accuracy: 0.5850\n",
      "Epoch 29/30\n",
      "51/51 [==============================] - 2s 29ms/step - loss: 0.2768 - accuracy: 0.9341 - val_loss: 4.0671 - val_accuracy: 0.5950\n",
      "Epoch 30/30\n",
      "51/51 [==============================] - 2s 29ms/step - loss: 0.2368 - accuracy: 0.9428 - val_loss: 4.1488 - val_accuracy: 0.6100\n"
=======
=======
>>>>>>> Stashed changes
     "name": "stdout",
     "output_type": "stream",
     "text": [
      "Training Fold 1...\n",
      "Epoch 1/5\n",
      "904/904 [==============================] - 10s 11ms/step - loss: 48.6304 - accuracy: 0.5442  \n",
      "Epoch 2/5\n",
      "904/904 [==============================] - 7s 8ms/step - loss: 0.2866 - accuracy: 0.9447\n",
      "Epoch 3/5\n",
      "904/904 [==============================] - 7s 8ms/step - loss: 0.0539 - accuracy: 0.9834 \n",
      "Epoch 4/5\n",
      "904/904 [==============================] - 7s 8ms/step - loss: 0.0621 - accuracy: 0.9867 \n",
      "Epoch 5/5\n",
      "904/904 [==============================] - 7s 8ms/step - loss: 0.2053 - accuracy: 0.9768\n",
      "Training Fold 2...\n",
      "Epoch 1/5\n",
      "904/904 [==============================] - 7s 8ms/step - loss: 33.1708 - accuracy: 0.5653\n",
      "Epoch 2/5\n",
      "904/904 [==============================] - 7s 8ms/step - loss: 0.1860 - accuracy: 0.9513\n",
      "Epoch 3/5\n",
      "904/904 [==============================] - 7s 8ms/step - loss: 0.0599 - accuracy: 0.9812 \n",
      "Epoch 4/5\n",
      "904/904 [==============================] - 7s 8ms/step - loss: 0.1481 - accuracy: 0.9712 \n",
      "Epoch 5/5\n",
      "904/904 [==============================] - 7s 8ms/step - loss: 0.1755 - accuracy: 0.9701\n",
      "Training Fold 3...\n",
      "Epoch 1/5\n",
      "904/904 [==============================] - 7s 8ms/step - loss: 46.6379 - accuracy: 0.5885  \n",
      "Epoch 2/5\n",
      "590/904 [==================>...........] - ETA: 2s - loss: 0.1034 - accuracy: 0.9661 "
<<<<<<< Updated upstream
>>>>>>> Stashed changes
=======
>>>>>>> Stashed changes
     ]
    }
   ],
   "source": [
<<<<<<< Updated upstream
<<<<<<< Updated upstream
    "#Used small number of epochs for prototype to show its possible to train the model on our gathered dataset\n",
    "history = model.fit(\n",
    "    training_data,\n",
    "    validation_data=val_data,\n",
    "    epochs=30\n",
    ")"
=======
=======
>>>>>>> Stashed changes
    "final_train_accuracies = []\n",
    "final_val_accuracies = []\n",
    "\n",
    "for i in range(k):\n",
    "    print(f\"Training Fold {i+1}...\")\n",
    "    train = train_data[i]\n",
    "    val = val_data[i]\n",
    "    \n",
    "    model = create_model()\n",
    "    history = model.fit(train,\n",
    "              epochs=5,)\n",
    "    scores = model.evaluate(val, verbose=0)\n",
    "\n",
    "    final_train_accuracies.append(history.history['accuracy'][-1]) \n",
    "    final_val_accuracies.append(scores[-1]) \n",
    "    \n",
    "    \n"
<<<<<<< Updated upstream
>>>>>>> Stashed changes
=======
>>>>>>> Stashed changes
   ]
  },
  {
   "cell_type": "code",
   "execution_count": null,
   "id": "f9a475b8",
   "metadata": {},
   "outputs": [],
<<<<<<< Updated upstream
<<<<<<< Updated upstream
   "source": []
=======
=======
>>>>>>> Stashed changes
   "source": [
    "folds = [f'Fold {i+1}' for i in range(10)]\n",
    "\n",
    "# Create bar positions\n",
    "x = np.arange(10)  \n",
    "\n",
    "# Set width for bars\n",
    "width = 0.35\n",
    "\n",
    "# Plotting the bar graph\n",
    "plt.figure(figsize=(14, 8))\n",
    "\n",
    "# Plotting training accuracies and validation accuracies\n",
    "plt.bar(x - width/2, final_train_accuracies, width, label='Train Accuracy', color='blue')\n",
    "plt.bar(x + width/2, final_val_accuracies, width, label='Val Accuracy', color='orange')\n",
    "\n",
    "# Add labels and title\n",
    "plt.xlabel('Folds')\n",
    "plt.ylabel('Accuracy')\n",
    "plt.title(f'{10}-Fold Cross Validation: Train vs Val Accuracy')\n",
    "plt.xticks(x, folds)\n",
    "plt.legend(loc='lower right')\n",
    "plt.grid(True, axis='y')\n",
    "plt.show()"
   ]
<<<<<<< Updated upstream
>>>>>>> Stashed changes
=======
>>>>>>> Stashed changes
  },
  {
   "cell_type": "code",
   "execution_count": null,
   "id": "f6c9fb00-3cbe-4d83-8272-1e633f14903c",
   "metadata": {},
   "outputs": [],
   "source": []
  }
 ],
 "metadata": {
  "kernelspec": {
   "display_name": "Python 3 (ipykernel)",
   "language": "python",
   "name": "python3"
  },
  "language_info": {
   "codemirror_mode": {
    "name": "ipython",
    "version": 3
   },
   "file_extension": ".py",
   "mimetype": "text/x-python",
   "name": "python",
   "nbconvert_exporter": "python",
   "pygments_lexer": "ipython3",
   "version": "3.9.21"
  }
 },
 "nbformat": 4,
 "nbformat_minor": 5
}
