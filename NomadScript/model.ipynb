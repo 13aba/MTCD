{
 "cells": [
  {
   "cell_type": "code",
   "execution_count": 1,
   "id": "2aa5c953",
   "metadata": {},
   "outputs": [],
   "source": [
    "import tensorflow as tf\n",
    "from tensorflow.keras import layers, models\n",
    "import os\n",
    "import numpy as np\n",
    "from sklearn.model_selection import KFold\n",
    "import matplotlib.pyplot as plt"
   ]
  },
  {
   "cell_type": "code",
   "execution_count": 2,
   "id": "6b30d928",
   "metadata": {},
   "outputs": [
    {
     "name": "stdout",
     "output_type": "stream",
     "text": [
      "Found 1004 files belonging to 18 classes.\n"
     ]
    }
   ],
   "source": [
    "\n",
    "image_data = tf.keras.preprocessing.image_dataset_from_directory(\n",
    "    directory=r\"C:\\Users\\ulzii\\OneDrive\\Desktop\\baba\\media\",\n",
    "    labels='inferred',\n",
    "    label_mode='int',\n",
    "    batch_size=1,\n",
    "    image_size=(300, 300),\n",
    "    color_mode=\"grayscale\",  \n",
    ")\n",
    "\n"
   ]
  },
  {
   "cell_type": "code",
   "execution_count": 3,
   "id": "7b662234",
   "metadata": {},
   "outputs": [],
   "source": [
    "val_data = []\n",
    "train_data = []\n",
    "\n",
    "dataset_size = 1004\n",
    "k  = 10\n",
    "fold_size = 100\n",
    "\n",
    "for i in range(k):\n",
    "    val = image_data.skip(fold_size*i).take(fold_size)\n",
    "    train = image_data.take(i * fold_size).concatenate(image_data.skip((i + 1) * fold_size))\n",
    "    val_data.append(val)\n",
    "    train_data.append(train)\n"
   ]
  },
  {
   "cell_type": "code",
   "execution_count": 4,
   "id": "068868cd-89ce-4c05-a954-5835f0e82c7e",
   "metadata": {},
   "outputs": [],
   "source": [
    "def create_model():\n",
    "    model = models.Sequential([\n",
    "        layers.Conv2D(16, (3, 3), activation='relu', input_shape=(300, 300, 1)),\n",
    "        layers.MaxPooling2D((2, 2)),\n",
    "        layers.Conv2D(32, (3, 3), activation='relu'),\n",
    "        layers.MaxPooling2D((2, 2)),\n",
    "        layers.Flatten(),\n",
    "        layers.Dense(64, activation='relu'),\n",
    "        layers.Dense(18, activation='softmax')    \n",
    "    ])\n",
    "    model.compile(optimizer='adam', loss='sparse_categorical_crossentropy', metrics=['accuracy'])\n",
    "    return model"
   ]
  },
  {
   "cell_type": "code",
   "execution_count": null,
   "id": "6cfdaae3-2345-4390-bf36-62fbb9b4b09f",
   "metadata": {},
   "outputs": [
    {
     "name": "stdout",
     "output_type": "stream",
     "text": [
      "Training Fold 1...\n",
      "Epoch 1/5\n",
      "904/904 [==============================] - 10s 11ms/step - loss: 48.6304 - accuracy: 0.5442  \n",
      "Epoch 2/5\n",
      "904/904 [==============================] - 7s 8ms/step - loss: 0.2866 - accuracy: 0.9447\n",
      "Epoch 3/5\n",
      "904/904 [==============================] - 7s 8ms/step - loss: 0.0539 - accuracy: 0.9834 \n",
      "Epoch 4/5\n",
      "904/904 [==============================] - 7s 8ms/step - loss: 0.0621 - accuracy: 0.9867 \n",
      "Epoch 5/5\n",
      "904/904 [==============================] - 7s 8ms/step - loss: 0.2053 - accuracy: 0.9768\n",
      "Training Fold 2...\n",
      "Epoch 1/5\n",
      "904/904 [==============================] - 7s 8ms/step - loss: 33.1708 - accuracy: 0.5653\n",
      "Epoch 2/5\n",
      "904/904 [==============================] - 7s 8ms/step - loss: 0.1860 - accuracy: 0.9513\n",
      "Epoch 3/5\n",
      "904/904 [==============================] - 7s 8ms/step - loss: 0.0599 - accuracy: 0.9812 \n",
      "Epoch 4/5\n",
      "904/904 [==============================] - 7s 8ms/step - loss: 0.1481 - accuracy: 0.9712 \n",
      "Epoch 5/5\n",
      "904/904 [==============================] - 7s 8ms/step - loss: 0.1755 - accuracy: 0.9701\n",
      "Training Fold 3...\n",
      "Epoch 1/5\n",
      "904/904 [==============================] - 7s 8ms/step - loss: 46.6379 - accuracy: 0.5885  \n",
      "Epoch 2/5\n",
      "590/904 [==================>...........] - ETA: 2s - loss: 0.1034 - accuracy: 0.9661 "
     ]
    }
   ],
   "source": [
    "final_train_accuracies = []\n",
    "final_val_accuracies = []\n",
    "\n",
    "for i in range(k):\n",
    "    print(f\"Training Fold {i+1}...\")\n",
    "    train = train_data[i]\n",
    "    val = val_data[i]\n",
    "    \n",
    "    model = create_model()\n",
    "    history = model.fit(train,\n",
    "              epochs=5,)\n",
    "    scores = model.evaluate(val, verbose=0)\n",
    "\n",
    "    final_train_accuracies.append(history.history['accuracy'][-1]) \n",
    "    final_val_accuracies.append(scores[-1]) \n",
    "    \n",
    "    \n"
   ]
  },
  {
   "cell_type": "code",
   "execution_count": null,
   "id": "f9a475b8",
   "metadata": {},
   "outputs": [],
   "source": [
    "folds = [f'Fold {i+1}' for i in range(10)]\n",
    "\n",
    "# Create bar positions\n",
    "x = np.arange(10)  \n",
    "\n",
    "# Set width for bars\n",
    "width = 0.35\n",
    "\n",
    "# Plotting the bar graph\n",
    "plt.figure(figsize=(14, 8))\n",
    "\n",
    "# Plotting training accuracies and validation accuracies\n",
    "plt.bar(x - width/2, final_train_accuracies, width, label='Train Accuracy', color='blue')\n",
    "plt.bar(x + width/2, final_val_accuracies, width, label='Val Accuracy', color='orange')\n",
    "\n",
    "# Add labels and title\n",
    "plt.xlabel('Folds')\n",
    "plt.ylabel('Accuracy')\n",
    "plt.title(f'{10}-Fold Cross Validation: Train vs Val Accuracy')\n",
    "plt.xticks(x, folds)\n",
    "plt.legend(loc='lower right')\n",
    "plt.grid(True, axis='y')\n",
    "plt.show()"
   ]
  },
  {
   "cell_type": "code",
   "execution_count": null,
   "id": "f6c9fb00-3cbe-4d83-8272-1e633f14903c",
   "metadata": {},
   "outputs": [],
   "source": []
  }
 ],
 "metadata": {
  "kernelspec": {
   "display_name": "Python 3 (ipykernel)",
   "language": "python",
   "name": "python3"
  },
  "language_info": {
   "codemirror_mode": {
    "name": "ipython",
    "version": 3
   },
   "file_extension": ".py",
   "mimetype": "text/x-python",
   "name": "python",
   "nbconvert_exporter": "python",
   "pygments_lexer": "ipython3",
   "version": "3.9.21"
  }
 },
 "nbformat": 4,
 "nbformat_minor": 5
}
